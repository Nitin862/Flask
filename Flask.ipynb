{
 "cells": [
  {
   "cell_type": "code",
   "execution_count": 1,
   "id": "a9a97911-c813-44ca-937b-1f1bb21792ff",
   "metadata": {},
   "outputs": [
    {
     "data": {
      "text/plain": [
       "'Q1. What is Flask Framework? What are the advantages of Flask Framework?'"
      ]
     },
     "execution_count": 1,
     "metadata": {},
     "output_type": "execute_result"
    }
   ],
   "source": [
    "'''Q1. What is Flask Framework? What are the advantages of Flask Framework?'''"
   ]
  },
  {
   "cell_type": "code",
   "execution_count": 2,
   "id": "be33a33e-d9b1-427e-b09a-27ce0cfeabe4",
   "metadata": {},
   "outputs": [
    {
     "data": {
      "text/plain": [
       "'Flask Framework: Flask is a lightweight, micro web framework for Python used to build web applications. It is known for its simplicity and flexibility.\\n\\nAdvantages:\\n\\nSimplicity: Easy to set up and use, with minimal boilerplate code.\\nFlexibility: Allows developers to choose components and libraries as needed.\\nExtensible: Supports numerous extensions for adding functionality.\\nLightweight: Minimalist design, focusing on core features without extra bloat.\\nDocumentation: Well-documented with a large community for support'"
      ]
     },
     "execution_count": 2,
     "metadata": {},
     "output_type": "execute_result"
    }
   ],
   "source": [
    "'''Flask Framework: Flask is a lightweight, micro web framework for Python used to build web applications. It is known for its simplicity and flexibility.\n",
    "\n",
    "Advantages:\n",
    "\n",
    "Simplicity: Easy to set up and use, with minimal boilerplate code.\n",
    "Flexibility: Allows developers to choose components and libraries as needed.\n",
    "Extensible: Supports numerous extensions for adding functionality.\n",
    "Lightweight: Minimalist design, focusing on core features without extra bloat.\n",
    "Documentation: Well-documented with a large community for support'''"
   ]
  },
  {
   "cell_type": "code",
   "execution_count": 3,
   "id": "22757252-b759-4824-b1bd-90f4789bf8d3",
   "metadata": {},
   "outputs": [
    {
     "data": {
      "text/plain": [
       "'Q2. Create a simple Flask application to display ‘Hello World!!’. Attach the screenshot of the output in\\nJupyter Notebook.'"
      ]
     },
     "execution_count": 3,
     "metadata": {},
     "output_type": "execute_result"
    }
   ],
   "source": [
    "'''Q2. Create a simple Flask application to display ‘Hello World!!’. Attach the screenshot of the output in\n",
    "Jupyter Notebook.'''"
   ]
  },
  {
   "cell_type": "code",
   "execution_count": 4,
   "id": "aa60fcf8-d2b7-42fb-bdff-03be07c1c22a",
   "metadata": {},
   "outputs": [
    {
     "ename": "ModuleNotFoundError",
     "evalue": "No module named 'flask'",
     "output_type": "error",
     "traceback": [
      "\u001b[0;31m---------------------------------------------------------------------------\u001b[0m",
      "\u001b[0;31mModuleNotFoundError\u001b[0m                       Traceback (most recent call last)",
      "Cell \u001b[0;32mIn[4], line 1\u001b[0m\n\u001b[0;32m----> 1\u001b[0m \u001b[38;5;28;01mfrom\u001b[39;00m \u001b[38;5;21;01mflask\u001b[39;00m \u001b[38;5;28;01mimport\u001b[39;00m Flask\n\u001b[1;32m      3\u001b[0m app \u001b[38;5;241m=\u001b[39m Flask(\u001b[38;5;18m__name__\u001b[39m)\n\u001b[1;32m      5\u001b[0m \u001b[38;5;129m@app\u001b[39m\u001b[38;5;241m.\u001b[39mroute(\u001b[38;5;124m'\u001b[39m\u001b[38;5;124m/\u001b[39m\u001b[38;5;124m'\u001b[39m)\n\u001b[1;32m      6\u001b[0m \u001b[38;5;28;01mdef\u001b[39;00m \u001b[38;5;21mhello_world\u001b[39m():\n",
      "\u001b[0;31mModuleNotFoundError\u001b[0m: No module named 'flask'"
     ]
    }
   ],
   "source": [
    "from flask import Flask\n",
    "\n",
    "app = Flask(__name__)\n",
    "\n",
    "@app.route('/')\n",
    "def hello_world():\n",
    "    return 'Hello World!!'\n",
    "\n",
    "if __name__ == '__main__':\n",
    "    app.run(debug=True)\n"
   ]
  },
  {
   "cell_type": "code",
   "execution_count": 6,
   "id": "6f6b6f63-0b1a-427d-841a-40a251245942",
   "metadata": {},
   "outputs": [
    {
     "data": {
      "text/plain": [
       "'Q3. What is App routing in Flask? Why do we use app routes? in concise'"
      ]
     },
     "execution_count": 6,
     "metadata": {},
     "output_type": "execute_result"
    }
   ],
   "source": [
    "'''Q3. What is App routing in Flask? Why do we use app routes? in concise'''"
   ]
  },
  {
   "cell_type": "code",
   "execution_count": 7,
   "id": "38c5e76d-1d7d-4be3-9bab-2eaa50740c3d",
   "metadata": {},
   "outputs": [
    {
     "data": {
      "text/plain": [
       "'App Routing in Flask: App routing in Flask defines how URLs are mapped to functions in the application. It specifies which function should handle a request for a given URL endpoint.\\n\\nWhy We Use App Routes:\\n\\nURL Handling: Routes map URLs to specific functions, allowing the application to respond to different URLs with appropriate content\\nor actions.\\nModularity: Helps organize the code by associating different routes with different functions or views, making it easier to manage and maintain.\\nDynamic Responses: Enables dynamic content generation based on the requested URL and any parameters or variables passed in the URL.'"
      ]
     },
     "execution_count": 7,
     "metadata": {},
     "output_type": "execute_result"
    }
   ],
   "source": [
    "'''App Routing in Flask: App routing in Flask defines how URLs are mapped to functions in the application. It specifies which function should handle a request for a given URL endpoint.\n",
    "\n",
    "Why We Use App Routes:\n",
    "\n",
    "URL Handling: Routes map URLs to specific functions, allowing the application to respond to different URLs with appropriate content\n",
    "or actions.\n",
    "Modularity: Helps organize the code by associating different routes with different functions or views, making it easier to manage and maintain.\n",
    "Dynamic Responses: Enables dynamic content generation based on the requested URL and any parameters or variables passed in the URL.'''"
   ]
  },
  {
   "cell_type": "code",
   "execution_count": 8,
   "id": "8719be81-ed2b-4a43-958e-bd2a9e6cf865",
   "metadata": {},
   "outputs": [
    {
     "data": {
      "text/plain": [
       "'Q4. Create a “/welcome” route to display the welcome message “Welcome to ABC Corporation” and a “/”\\nroute to show the following details:\\nCompany Name: ABC Corporation\\nLocation: India\\nContact Detail: 999-999-9999'"
      ]
     },
     "execution_count": 8,
     "metadata": {},
     "output_type": "execute_result"
    }
   ],
   "source": [
    "'''Q4. Create a “/welcome” route to display the welcome message “Welcome to ABC Corporation” and a “/”\n",
    "route to show the following details:\n",
    "Company Name: ABC Corporation\n",
    "Location: India\n",
    "Contact Detail: 999-999-9999'''"
   ]
  },
  {
   "cell_type": "code",
   "execution_count": 9,
   "id": "1f52763c-c775-417a-aeb2-e63d06a0b6fd",
   "metadata": {},
   "outputs": [
    {
     "ename": "ModuleNotFoundError",
     "evalue": "No module named 'flask'",
     "output_type": "error",
     "traceback": [
      "\u001b[0;31m---------------------------------------------------------------------------\u001b[0m",
      "\u001b[0;31mModuleNotFoundError\u001b[0m                       Traceback (most recent call last)",
      "Cell \u001b[0;32mIn[9], line 1\u001b[0m\n\u001b[0;32m----> 1\u001b[0m \u001b[38;5;28;01mfrom\u001b[39;00m \u001b[38;5;21;01mflask\u001b[39;00m \u001b[38;5;28;01mimport\u001b[39;00m Flask\n\u001b[1;32m      3\u001b[0m app \u001b[38;5;241m=\u001b[39m Flask(\u001b[38;5;18m__name__\u001b[39m)\n\u001b[1;32m      5\u001b[0m \u001b[38;5;129m@app\u001b[39m\u001b[38;5;241m.\u001b[39mroute(\u001b[38;5;124m'\u001b[39m\u001b[38;5;124m/welcome\u001b[39m\u001b[38;5;124m'\u001b[39m)\n\u001b[1;32m      6\u001b[0m \u001b[38;5;28;01mdef\u001b[39;00m \u001b[38;5;21mwelcome\u001b[39m():\n",
      "\u001b[0;31mModuleNotFoundError\u001b[0m: No module named 'flask'"
     ]
    }
   ],
   "source": [
    "from flask import Flask\n",
    "\n",
    "app = Flask(__name__)\n",
    "\n",
    "@app.route('/welcome')\n",
    "def welcome():\n",
    "    return 'Welcome to ABC Corporation'\n",
    "\n",
    "@app.route('/')\n",
    "def home():\n",
    "    return '''\n",
    "    Company Name: ABC Corporation<br>\n",
    "    Location: India<br>\n",
    "    Contact Detail: 999-999-9999\n",
    "    '''\n",
    "\n",
    "if __name__ == '__main__':\n",
    "    app.run(debug=True)\n"
   ]
  },
  {
   "cell_type": "code",
   "execution_count": 10,
   "id": "12afc843-ed46-461d-965c-94eb9baaf66a",
   "metadata": {},
   "outputs": [
    {
     "data": {
      "text/plain": [
       "'Q5. What function is used in Flask for URL Building? Write a Python code to demonstrate the working of the\\nurl_for() function.'"
      ]
     },
     "execution_count": 10,
     "metadata": {},
     "output_type": "execute_result"
    }
   ],
   "source": [
    "'''Q5. What function is used in Flask for URL Building? Write a Python code to demonstrate the working of the\n",
    "url_for() function.'''"
   ]
  },
  {
   "cell_type": "code",
   "execution_count": null,
   "id": "cc3de539-addf-40ca-80f7-57c68b7fb492",
   "metadata": {},
   "outputs": [],
   "source": []
  }
 ],
 "metadata": {
  "kernelspec": {
   "display_name": "Python 3 (ipykernel)",
   "language": "python",
   "name": "python3"
  },
  "language_info": {
   "codemirror_mode": {
    "name": "ipython",
    "version": 3
   },
   "file_extension": ".py",
   "mimetype": "text/x-python",
   "name": "python",
   "nbconvert_exporter": "python",
   "pygments_lexer": "ipython3",
   "version": "3.10.8"
  }
 },
 "nbformat": 4,
 "nbformat_minor": 5
}
